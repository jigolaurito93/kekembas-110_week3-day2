{
 "cells": [
  {
   "cell_type": "markdown",
   "metadata": {},
   "source": [
    "#### Exercise 1 - Class Inheritance"
   ]
  },
  {
   "cell_type": "markdown",
   "metadata": {},
   "source": [
    "Create an Employee class that sets an employee's first name, last name, job title, salary, and email. The Employee class should have a class attribute for the raise amount set to 5% (1.05). Create a method that will apply the raise to an employee's salary."
   ]
  },
  {
   "cell_type": "code",
   "execution_count": 1,
   "metadata": {},
   "outputs": [],
   "source": [
    "class Employee:\n",
    "\n",
    "    raise_amount = 1.05\n",
    "\n",
    "    def __init__(self, first, last, title, salary):\n",
    "        self.first_name = first\n",
    "        self.last_name = last \n",
    "        self._job_title = title\n",
    "        self.salary = salary\n",
    "        self.email = first.lower() + '.' + last.lower() + '@company.org'\n",
    "\n",
    "    def full_name(self):\n",
    "        return self.first_name.title() + ' ' + self.last_name.title()\n",
    "    \n",
    "    def apply_raise(self):\n",
    "        self.salary *= Employee.raise_amount\n",
    "        print(f\"Congrats {self.first_name}, you have received a raise and your new salary is ${self.salary:.2f}\")\n",
    "\n",
    "employee_1 = Employee('John', 'Wick', 'Manager', 50000)\n",
    "employee_2 = Employee('Ronda', 'Rousey', 'Supervisor', 35000)"
   ]
  },
  {
   "cell_type": "markdown",
   "metadata": {},
   "source": [
    "Create two more classes that inherit from the Employee class. One for Sales and one for Development. Both of these classes will have the same attributes as the Employee.<br>\n",
    "- For the Sales employees, add a phone number attribute on instantiation using the super method. \n",
    "- Create a method on the Sales class that will Send a Follow Up Email. It should take in a customer name and \"send\" aka print a formatted email \"Dear *customer*, Thank you for your interest in our product. Please let me know if you have any questions. My email is *email* or my phone number is *phone number*. Thanks, *full name*\"\n",
    "- Create a method on the Development class called code that will print out \"*full name* is writing code\"."
   ]
  },
  {
   "cell_type": "code",
   "execution_count": 2,
   "metadata": {},
   "outputs": [],
   "source": [
    "class Sales(Employee):\n",
    "    \n",
    "    def __init__(self, first, last, title, salary, phone):\n",
    "        super().__init__(first, last, title, salary)\n",
    "        self.phone = phone\n",
    "\n",
    "    def follow_up_email(self, customer_name):\n",
    "        self.customer_name = customer_name\n",
    "        print(f\"Dear {customer_name}, Thank you for your interest in our product.\")\n",
    "        print(f\"Please let me know if you have any questions. My email is {self.email} or phone number is {self.phone}. Thanks, {self.full_name()}\")\n",
    "\n",
    "class Development(Employee):\n",
    "\n",
    "    def __init__(self, first, last, title, salary):\n",
    "        self.first_name = first\n",
    "        self.last_name = last \n",
    "        self._job_title = title\n",
    "        self.salary = salary\n",
    "        self.email = first.lower() + '.' + last.lower() + '@company.org'\n",
    "    \n",
    "    def code(self):\n",
    "        print(f\"{self.full_name()} is writing code.\")"
   ]
  },
  {
   "cell_type": "markdown",
   "metadata": {},
   "source": [
    "- Create an instance of a Sales Employee with a salary of $50,000.\n",
    "- Send follow up emails to \"Mike O'Neil\" and \"Hannah Stern\"\n",
    "- Give the employee a raise and print the salary"
   ]
  },
  {
   "cell_type": "code",
   "execution_count": 3,
   "metadata": {},
   "outputs": [
    {
     "name": "stdout",
     "output_type": "stream",
     "text": [
      "Dear Mike O'neal, Thank you for your interest in our product.\n",
      "Please let me know if you have any questions. My email is tony.stark@company.org or phone number is (571)-382-4025. Thanks, Tony Stark\n",
      "Dear Sarah Stern, Thank you for your interest in our product.\n",
      "Please let me know if you have any questions. My email is tony.stark@company.org or phone number is (571)-382-4025. Thanks, Tony Stark\n",
      "Congrats Tony, you have received a raise and your new salary is $52500.00\n"
     ]
    }
   ],
   "source": [
    "tony = Sales('Tony', 'Stark', 'Sales Manager', 50000, '(571)-382-4025')\n",
    "tony.follow_up_email(\"Mike O'neal\")\n",
    "tony.follow_up_email('Sarah Stern')\n",
    "tony.apply_raise()"
   ]
  },
  {
   "cell_type": "markdown",
   "metadata": {},
   "source": [
    "- Create an instance of a Development Employee with a salary of $100,000\n",
    "- Write some code with this employee\n",
    "- Give the employee a raise and print the salary"
   ]
  },
  {
   "cell_type": "code",
   "execution_count": 4,
   "metadata": {},
   "outputs": [
    {
     "name": "stdout",
     "output_type": "stream",
     "text": [
      "Tina Turner is writing code.\n",
      "Congrats Tina, you have received a raise and your new salary is $105000.00\n"
     ]
    }
   ],
   "source": [
    "tina = Development('Tina', 'Turner', 'Development Anaylist', 100000 )\n",
    "tina.code()\n",
    "tina.apply_raise()"
   ]
  },
  {
   "cell_type": "markdown",
   "metadata": {},
   "source": [
    "#### Exercise 2 - Importing Modules"
   ]
  },
  {
   "cell_type": "markdown",
   "metadata": {},
   "source": [
    "In VS Code, create a module titled `geometry` and add two functions in there. One that will calculate the area of a circle given a radius. The second will find the hypotenuse of a right angle given the two sides. Import the module or the functions from the module and use it to find the answers to the below questions"
   ]
  },
  {
   "cell_type": "markdown",
   "metadata": {},
   "source": [
    "What is the area of a circle with a radius of 7cm?"
   ]
  },
  {
   "cell_type": "code",
   "execution_count": 1,
   "metadata": {},
   "outputs": [
    {
     "name": "stdout",
     "output_type": "stream",
     "text": [
      "The area of the circle with a radius of (7 cm.) is 153.93804002591 cm\n"
     ]
    }
   ],
   "source": [
    "import geometry\n",
    "\n",
    "print(geometry.area_of_circle(7))"
   ]
  },
  {
   "cell_type": "markdown",
   "metadata": {},
   "source": [
    "What is the hypotenuse of a right angle with sides of 3in and 4in?"
   ]
  },
  {
   "cell_type": "code",
   "execution_count": 2,
   "metadata": {},
   "outputs": [
    {
     "name": "stdout",
     "output_type": "stream",
     "text": [
      "The hypotenuse of a triangle with a right angle given angle-1 is (3 in.) and angle-2 is (4 in.) is 5.0 in.\n"
     ]
    }
   ],
   "source": [
    "import geometry\n",
    "\n",
    "print(geometry.hypot(3,4))"
   ]
  },
  {
   "cell_type": "code",
   "execution_count": null,
   "metadata": {},
   "outputs": [],
   "source": []
  }
 ],
 "metadata": {
  "kernelspec": {
   "display_name": "Python 3 (ipykernel)",
   "language": "python",
   "name": "python3"
  },
  "language_info": {
   "codemirror_mode": {
    "name": "ipython",
    "version": 3
   },
   "file_extension": ".py",
   "mimetype": "text/x-python",
   "name": "python",
   "nbconvert_exporter": "python",
   "pygments_lexer": "ipython3",
   "version": "3.9.13"
  }
 },
 "nbformat": 4,
 "nbformat_minor": 4
}
